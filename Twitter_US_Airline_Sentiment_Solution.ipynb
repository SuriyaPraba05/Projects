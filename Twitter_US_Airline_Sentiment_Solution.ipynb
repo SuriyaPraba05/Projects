{
 "cells": [
  {
   "cell_type": "code",
   "execution_count": 110,
   "metadata": {
    "colab": {},
    "colab_type": "code",
    "id": "Qxl0GY8LPOeu"
   },
   "outputs": [],
   "source": [
    "from google.colab import drive"
   ]
  },
  {
   "cell_type": "code",
   "execution_count": 111,
   "metadata": {
    "colab": {
     "base_uri": "https://localhost:8080/",
     "height": 34
    },
    "colab_type": "code",
    "id": "Mlqr_ucEPREf",
    "outputId": "22882f2b-e712-4cee-8ccb-93649786e8f7"
   },
   "outputs": [
    {
     "name": "stdout",
     "output_type": "stream",
     "text": [
      "Drive already mounted at /content/drive; to attempt to forcibly remount, call drive.mount(\"/content/drive\", force_remount=True).\n"
     ]
    }
   ],
   "source": [
    "drive.mount('/content/drive')"
   ]
  },
  {
   "cell_type": "code",
   "execution_count": 112,
   "metadata": {
    "colab": {
     "base_uri": "https://localhost:8080/",
     "height": 85
    },
    "colab_type": "code",
    "id": "K9HnELmkQguj",
    "outputId": "6f6c891f-4796-4558-ef8b-619eb027fecd"
   },
   "outputs": [
    {
     "name": "stdout",
     "output_type": "stream",
     "text": [
      "Requirement already satisfied: contractions in /usr/local/lib/python3.6/dist-packages (0.0.25)\n",
      "Requirement already satisfied: textsearch in /usr/local/lib/python3.6/dist-packages (from contractions) (0.0.17)\n",
      "Requirement already satisfied: pyahocorasick in /usr/local/lib/python3.6/dist-packages (from textsearch->contractions) (1.4.0)\n",
      "Requirement already satisfied: Unidecode in /usr/local/lib/python3.6/dist-packages (from textsearch->contractions) (1.1.1)\n"
     ]
    }
   ],
   "source": [
    "!pip install contractions"
   ]
  },
  {
   "cell_type": "code",
   "execution_count": 113,
   "metadata": {
    "colab": {},
    "colab_type": "code",
    "id": "jy9M90YNQNuH"
   },
   "outputs": [],
   "source": [
    "import pandas as pd\n",
    "import numpy as np\n",
    "import seaborn as sns\n",
    "from bs4 import BeautifulSoup  ## to remove HTML tags\n",
    "import nltk\n",
    "from nltk.tokenize import word_tokenize  ## tokenize\n",
    "import re ##regular expression\n",
    "from nltk.stem.wordnet import WordNetLemmatizer         # Import Lemmatizer.\n",
    "import contractions                                     # Import contractions library.\n",
    "from sklearn.model_selection import train_test_split\n",
    "from sklearn.feature_extraction.text import TfidfVectorizer\n",
    "from sklearn.feature_extraction.text import CountVectorizer\n",
    "from sklearn.ensemble import RandomForestClassifier\n",
    "from sklearn.model_selection import cross_val_score\n"
   ]
  },
  {
   "cell_type": "code",
   "execution_count": 114,
   "metadata": {
    "colab": {
     "base_uri": "https://localhost:8080/",
     "height": 170
    },
    "colab_type": "code",
    "id": "ln6x07kQMynk",
    "outputId": "ca1d5116-56f0-4d17-8ab5-e21fda7995d9"
   },
   "outputs": [
    {
     "name": "stdout",
     "output_type": "stream",
     "text": [
      "[nltk_data] Downloading package averaged_perceptron_tagger to\n",
      "[nltk_data]     /root/nltk_data...\n",
      "[nltk_data]   Package averaged_perceptron_tagger is already up-to-\n",
      "[nltk_data]       date!\n",
      "[nltk_data] Downloading package punkt to /root/nltk_data...\n",
      "[nltk_data]   Package punkt is already up-to-date!\n",
      "[nltk_data] Downloading package wordnet to /root/nltk_data...\n",
      "[nltk_data]   Package wordnet is already up-to-date!\n"
     ]
    },
    {
     "data": {
      "text/plain": [
       "True"
      ]
     },
     "execution_count": 114,
     "metadata": {
      "tags": []
     },
     "output_type": "execute_result"
    }
   ],
   "source": [
    "nltk.download(['averaged_perceptron_tagger', 'punkt', 'wordnet'])"
   ]
  },
  {
   "cell_type": "code",
   "execution_count": 115,
   "metadata": {
    "colab": {
     "base_uri": "https://localhost:8080/",
     "height": 445
    },
    "colab_type": "code",
    "id": "WECYUAbiQbiP",
    "outputId": "4b348e79-926a-4f84-d73b-d8a940863be6"
   },
   "outputs": [
    {
     "data": {
      "text/html": [
       "<div>\n",
       "<style scoped>\n",
       "    .dataframe tbody tr th:only-of-type {\n",
       "        vertical-align: middle;\n",
       "    }\n",
       "\n",
       "    .dataframe tbody tr th {\n",
       "        vertical-align: top;\n",
       "    }\n",
       "\n",
       "    .dataframe thead th {\n",
       "        text-align: right;\n",
       "    }\n",
       "</style>\n",
       "<table border=\"1\" class=\"dataframe\">\n",
       "  <thead>\n",
       "    <tr style=\"text-align: right;\">\n",
       "      <th></th>\n",
       "      <th>tweet_id</th>\n",
       "      <th>airline_sentiment</th>\n",
       "      <th>airline_sentiment_confidence</th>\n",
       "      <th>negativereason</th>\n",
       "      <th>negativereason_confidence</th>\n",
       "      <th>airline</th>\n",
       "      <th>airline_sentiment_gold</th>\n",
       "      <th>name</th>\n",
       "      <th>negativereason_gold</th>\n",
       "      <th>retweet_count</th>\n",
       "      <th>text</th>\n",
       "      <th>tweet_coord</th>\n",
       "      <th>tweet_created</th>\n",
       "      <th>tweet_location</th>\n",
       "      <th>user_timezone</th>\n",
       "    </tr>\n",
       "  </thead>\n",
       "  <tbody>\n",
       "    <tr>\n",
       "      <th>0</th>\n",
       "      <td>570306133677760513</td>\n",
       "      <td>neutral</td>\n",
       "      <td>1.0000</td>\n",
       "      <td>NaN</td>\n",
       "      <td>NaN</td>\n",
       "      <td>Virgin America</td>\n",
       "      <td>NaN</td>\n",
       "      <td>cairdin</td>\n",
       "      <td>NaN</td>\n",
       "      <td>0</td>\n",
       "      <td>@VirginAmerica What @dhepburn said.</td>\n",
       "      <td>NaN</td>\n",
       "      <td>2015-02-24 11:35:52 -0800</td>\n",
       "      <td>NaN</td>\n",
       "      <td>Eastern Time (US &amp; Canada)</td>\n",
       "    </tr>\n",
       "    <tr>\n",
       "      <th>1</th>\n",
       "      <td>570301130888122368</td>\n",
       "      <td>positive</td>\n",
       "      <td>0.3486</td>\n",
       "      <td>NaN</td>\n",
       "      <td>0.0000</td>\n",
       "      <td>Virgin America</td>\n",
       "      <td>NaN</td>\n",
       "      <td>jnardino</td>\n",
       "      <td>NaN</td>\n",
       "      <td>0</td>\n",
       "      <td>@VirginAmerica plus you've added commercials t...</td>\n",
       "      <td>NaN</td>\n",
       "      <td>2015-02-24 11:15:59 -0800</td>\n",
       "      <td>NaN</td>\n",
       "      <td>Pacific Time (US &amp; Canada)</td>\n",
       "    </tr>\n",
       "    <tr>\n",
       "      <th>2</th>\n",
       "      <td>570301083672813571</td>\n",
       "      <td>neutral</td>\n",
       "      <td>0.6837</td>\n",
       "      <td>NaN</td>\n",
       "      <td>NaN</td>\n",
       "      <td>Virgin America</td>\n",
       "      <td>NaN</td>\n",
       "      <td>yvonnalynn</td>\n",
       "      <td>NaN</td>\n",
       "      <td>0</td>\n",
       "      <td>@VirginAmerica I didn't today... Must mean I n...</td>\n",
       "      <td>NaN</td>\n",
       "      <td>2015-02-24 11:15:48 -0800</td>\n",
       "      <td>Lets Play</td>\n",
       "      <td>Central Time (US &amp; Canada)</td>\n",
       "    </tr>\n",
       "    <tr>\n",
       "      <th>3</th>\n",
       "      <td>570301031407624196</td>\n",
       "      <td>negative</td>\n",
       "      <td>1.0000</td>\n",
       "      <td>Bad Flight</td>\n",
       "      <td>0.7033</td>\n",
       "      <td>Virgin America</td>\n",
       "      <td>NaN</td>\n",
       "      <td>jnardino</td>\n",
       "      <td>NaN</td>\n",
       "      <td>0</td>\n",
       "      <td>@VirginAmerica it's really aggressive to blast...</td>\n",
       "      <td>NaN</td>\n",
       "      <td>2015-02-24 11:15:36 -0800</td>\n",
       "      <td>NaN</td>\n",
       "      <td>Pacific Time (US &amp; Canada)</td>\n",
       "    </tr>\n",
       "    <tr>\n",
       "      <th>4</th>\n",
       "      <td>570300817074462722</td>\n",
       "      <td>negative</td>\n",
       "      <td>1.0000</td>\n",
       "      <td>Can't Tell</td>\n",
       "      <td>1.0000</td>\n",
       "      <td>Virgin America</td>\n",
       "      <td>NaN</td>\n",
       "      <td>jnardino</td>\n",
       "      <td>NaN</td>\n",
       "      <td>0</td>\n",
       "      <td>@VirginAmerica and it's a really big bad thing...</td>\n",
       "      <td>NaN</td>\n",
       "      <td>2015-02-24 11:14:45 -0800</td>\n",
       "      <td>NaN</td>\n",
       "      <td>Pacific Time (US &amp; Canada)</td>\n",
       "    </tr>\n",
       "  </tbody>\n",
       "</table>\n",
       "</div>"
      ],
      "text/plain": [
       "             tweet_id  ...               user_timezone\n",
       "0  570306133677760513  ...  Eastern Time (US & Canada)\n",
       "1  570301130888122368  ...  Pacific Time (US & Canada)\n",
       "2  570301083672813571  ...  Central Time (US & Canada)\n",
       "3  570301031407624196  ...  Pacific Time (US & Canada)\n",
       "4  570300817074462722  ...  Pacific Time (US & Canada)\n",
       "\n",
       "[5 rows x 15 columns]"
      ]
     },
     "execution_count": 115,
     "metadata": {
      "tags": []
     },
     "output_type": "execute_result"
    }
   ],
   "source": [
    "df = pd.read_csv(\"/content/drive/My Drive/AIML/Tweets.csv\")\n",
    "df.head(5)"
   ]
  },
  {
   "cell_type": "code",
   "execution_count": 116,
   "metadata": {
    "colab": {
     "base_uri": "https://localhost:8080/",
     "height": 34
    },
    "colab_type": "code",
    "id": "O6nVwMIAQ7ET",
    "outputId": "db5e4966-f093-4800-a7c1-8d3b288748d3"
   },
   "outputs": [
    {
     "data": {
      "text/plain": [
       "(14640, 15)"
      ]
     },
     "execution_count": 116,
     "metadata": {
      "tags": []
     },
     "output_type": "execute_result"
    }
   ],
   "source": [
    "df.shape"
   ]
  },
  {
   "cell_type": "code",
   "execution_count": 117,
   "metadata": {
    "colab": {
     "base_uri": "https://localhost:8080/",
     "height": 391
    },
    "colab_type": "code",
    "id": "qayWu5QtRCGT",
    "outputId": "9d40e2f7-5679-4121-eb8c-c7024577361a"
   },
   "outputs": [
    {
     "name": "stdout",
     "output_type": "stream",
     "text": [
      "<class 'pandas.core.frame.DataFrame'>\n",
      "RangeIndex: 14640 entries, 0 to 14639\n",
      "Data columns (total 15 columns):\n",
      " #   Column                        Non-Null Count  Dtype  \n",
      "---  ------                        --------------  -----  \n",
      " 0   tweet_id                      14640 non-null  int64  \n",
      " 1   airline_sentiment             14640 non-null  object \n",
      " 2   airline_sentiment_confidence  14640 non-null  float64\n",
      " 3   negativereason                9178 non-null   object \n",
      " 4   negativereason_confidence     10522 non-null  float64\n",
      " 5   airline                       14640 non-null  object \n",
      " 6   airline_sentiment_gold        40 non-null     object \n",
      " 7   name                          14640 non-null  object \n",
      " 8   negativereason_gold           32 non-null     object \n",
      " 9   retweet_count                 14640 non-null  int64  \n",
      " 10  text                          14640 non-null  object \n",
      " 11  tweet_coord                   1019 non-null   object \n",
      " 12  tweet_created                 14640 non-null  object \n",
      " 13  tweet_location                9907 non-null   object \n",
      " 14  user_timezone                 9820 non-null   object \n",
      "dtypes: float64(2), int64(2), object(11)\n",
      "memory usage: 1.7+ MB\n"
     ]
    }
   ],
   "source": [
    "df.info()"
   ]
  },
  {
   "cell_type": "code",
   "execution_count": 118,
   "metadata": {
    "colab": {
     "base_uri": "https://localhost:8080/",
     "height": 173
    },
    "colab_type": "code",
    "id": "AQiPxfMHRGka",
    "outputId": "a5fbe52a-bce2-4592-ca58-2ec99584b4bb"
   },
   "outputs": [
    {
     "data": {
      "text/html": [
       "<div>\n",
       "<style scoped>\n",
       "    .dataframe tbody tr th:only-of-type {\n",
       "        vertical-align: middle;\n",
       "    }\n",
       "\n",
       "    .dataframe tbody tr th {\n",
       "        vertical-align: top;\n",
       "    }\n",
       "\n",
       "    .dataframe thead th {\n",
       "        text-align: right;\n",
       "    }\n",
       "</style>\n",
       "<table border=\"1\" class=\"dataframe\">\n",
       "  <thead>\n",
       "    <tr style=\"text-align: right;\">\n",
       "      <th></th>\n",
       "      <th>count</th>\n",
       "      <th>mean</th>\n",
       "      <th>std</th>\n",
       "      <th>min</th>\n",
       "      <th>25%</th>\n",
       "      <th>50%</th>\n",
       "      <th>75%</th>\n",
       "      <th>max</th>\n",
       "    </tr>\n",
       "  </thead>\n",
       "  <tbody>\n",
       "    <tr>\n",
       "      <th>tweet_id</th>\n",
       "      <td>14640.0</td>\n",
       "      <td>5.692184e+17</td>\n",
       "      <td>7.791112e+14</td>\n",
       "      <td>5.675883e+17</td>\n",
       "      <td>5.685592e+17</td>\n",
       "      <td>5.694779e+17</td>\n",
       "      <td>5.698905e+17</td>\n",
       "      <td>5.703106e+17</td>\n",
       "    </tr>\n",
       "    <tr>\n",
       "      <th>airline_sentiment_confidence</th>\n",
       "      <td>14640.0</td>\n",
       "      <td>9.001689e-01</td>\n",
       "      <td>1.628300e-01</td>\n",
       "      <td>3.350000e-01</td>\n",
       "      <td>6.923000e-01</td>\n",
       "      <td>1.000000e+00</td>\n",
       "      <td>1.000000e+00</td>\n",
       "      <td>1.000000e+00</td>\n",
       "    </tr>\n",
       "    <tr>\n",
       "      <th>negativereason_confidence</th>\n",
       "      <td>10522.0</td>\n",
       "      <td>6.382983e-01</td>\n",
       "      <td>3.304398e-01</td>\n",
       "      <td>0.000000e+00</td>\n",
       "      <td>3.606000e-01</td>\n",
       "      <td>6.706000e-01</td>\n",
       "      <td>1.000000e+00</td>\n",
       "      <td>1.000000e+00</td>\n",
       "    </tr>\n",
       "    <tr>\n",
       "      <th>retweet_count</th>\n",
       "      <td>14640.0</td>\n",
       "      <td>8.265027e-02</td>\n",
       "      <td>7.457782e-01</td>\n",
       "      <td>0.000000e+00</td>\n",
       "      <td>0.000000e+00</td>\n",
       "      <td>0.000000e+00</td>\n",
       "      <td>0.000000e+00</td>\n",
       "      <td>4.400000e+01</td>\n",
       "    </tr>\n",
       "  </tbody>\n",
       "</table>\n",
       "</div>"
      ],
      "text/plain": [
       "                                count          mean  ...           75%           max\n",
       "tweet_id                      14640.0  5.692184e+17  ...  5.698905e+17  5.703106e+17\n",
       "airline_sentiment_confidence  14640.0  9.001689e-01  ...  1.000000e+00  1.000000e+00\n",
       "negativereason_confidence     10522.0  6.382983e-01  ...  1.000000e+00  1.000000e+00\n",
       "retweet_count                 14640.0  8.265027e-02  ...  0.000000e+00  4.400000e+01\n",
       "\n",
       "[4 rows x 8 columns]"
      ]
     },
     "execution_count": 118,
     "metadata": {
      "tags": []
     },
     "output_type": "execute_result"
    }
   ],
   "source": [
    "df.describe().T"
   ]
  },
  {
   "cell_type": "markdown",
   "metadata": {
    "colab_type": "text",
    "id": "CNERG3ONRNAx"
   },
   "source": [
    "As we see from above data, there are 0's on \n",
    "1. retweet_count: It is not necessary that all the tweets needs to be retweeted. So, we can ignore it\n",
    "2. negativereason_confidence: For non negative reason, the reason for negativity is not required. So, it may be 0 for those cases/"
   ]
  },
  {
   "cell_type": "code",
   "execution_count": 119,
   "metadata": {
    "colab": {
     "base_uri": "https://localhost:8080/",
     "height": 595
    },
    "colab_type": "code",
    "id": "3VETpEbERI1J",
    "outputId": "9c77b6a2-a5a6-48b5-a6ff-6108e9708bda"
   },
   "outputs": [
    {
     "name": "stdout",
     "output_type": "stream",
     "text": [
      "Grouping negative    9178\n",
      "neutral     3099\n",
      "positive    2363\n",
      "Name: airline_sentiment, dtype: int64\n",
      "No.of null values 0\n",
      "\n",
      "Grouping Customer Service Issue         2910\n",
      "Late Flight                    1665\n",
      "Can't Tell                     1190\n",
      "Cancelled Flight                847\n",
      "Lost Luggage                    724\n",
      "Bad Flight                      580\n",
      "Flight Booking Problems         529\n",
      "Flight Attendant Complaints     481\n",
      "longlines                       178\n",
      "Damaged Luggage                  74\n",
      "Name: negativereason, dtype: int64\n",
      "No.of null values 5462\n",
      "\n",
      "Grouping United            3822\n",
      "US Airways        2913\n",
      "American          2759\n",
      "Southwest         2420\n",
      "Delta             2222\n",
      "Virgin America     504\n",
      "Name: airline, dtype: int64\n",
      "No.of null values 0\n",
      "\n",
      "Grouping negative    32\n",
      "positive     5\n",
      "neutral      3\n",
      "Name: airline_sentiment_gold, dtype: int64\n",
      "No.of null values 14600\n",
      "\n"
     ]
    }
   ],
   "source": [
    "for col in ('airline_sentiment','negativereason','airline','airline_sentiment_gold'):\n",
    "    if(df[col].dtype == object):\n",
    "        ##print(\"Column:\",col)\n",
    "        print(\"Grouping\",df[col].value_counts())\n",
    "        #print()\n",
    "        print(\"No.of null values\",df[col].isnull().sum())\n",
    "        print()"
   ]
  },
  {
   "cell_type": "markdown",
   "metadata": {
    "colab_type": "text",
    "id": "mHUUvdTtRexh"
   },
   "source": [
    "Quetion 2: Understand of data-columns: (5 Marks)\n",
    "1. Drop all other columns except “text” and “airline_sentiment”.\n",
    "2. Check the shape of data.\n",
    "3. Print first 5 rows of data."
   ]
  },
  {
   "cell_type": "code",
   "execution_count": 120,
   "metadata": {
    "colab": {},
    "colab_type": "code",
    "id": "-nrbSPYyRV6X"
   },
   "outputs": [],
   "source": [
    "## Dropping all the columns except \"text\" and \"airline_sentiment\"\n",
    "df_data = df[['text','airline_sentiment']]"
   ]
  },
  {
   "cell_type": "code",
   "execution_count": 121,
   "metadata": {
    "colab": {
     "base_uri": "https://localhost:8080/",
     "height": 85
    },
    "colab_type": "code",
    "id": "Lo5EJXkQ47zi",
    "outputId": "1dd5159d-3bdd-4c43-970e-a86244cf8b87"
   },
   "outputs": [
    {
     "data": {
      "text/plain": [
       "negative    9178\n",
       "neutral     3099\n",
       "positive    2363\n",
       "Name: airline_sentiment, dtype: int64"
      ]
     },
     "execution_count": 121,
     "metadata": {
      "tags": []
     },
     "output_type": "execute_result"
    }
   ],
   "source": [
    "df_data['airline_sentiment'].value_counts()"
   ]
  },
  {
   "cell_type": "code",
   "execution_count": 122,
   "metadata": {
    "colab": {
     "base_uri": "https://localhost:8080/",
     "height": 34
    },
    "colab_type": "code",
    "id": "kqdYEQXpRg57",
    "outputId": "856f2f03-e379-4c3a-8de5-bb634f06e9b5"
   },
   "outputs": [
    {
     "data": {
      "text/plain": [
       "(14640, 2)"
      ]
     },
     "execution_count": 122,
     "metadata": {
      "tags": []
     },
     "output_type": "execute_result"
    }
   ],
   "source": [
    "#shape of data\n",
    "df_data.shape"
   ]
  },
  {
   "cell_type": "code",
   "execution_count": 123,
   "metadata": {
    "colab": {
     "base_uri": "https://localhost:8080/",
     "height": 204
    },
    "colab_type": "code",
    "id": "_MWyGme2RiLU",
    "outputId": "cf0cbce3-c801-4393-dacf-c36b8dd6e353"
   },
   "outputs": [
    {
     "data": {
      "text/html": [
       "<div>\n",
       "<style scoped>\n",
       "    .dataframe tbody tr th:only-of-type {\n",
       "        vertical-align: middle;\n",
       "    }\n",
       "\n",
       "    .dataframe tbody tr th {\n",
       "        vertical-align: top;\n",
       "    }\n",
       "\n",
       "    .dataframe thead th {\n",
       "        text-align: right;\n",
       "    }\n",
       "</style>\n",
       "<table border=\"1\" class=\"dataframe\">\n",
       "  <thead>\n",
       "    <tr style=\"text-align: right;\">\n",
       "      <th></th>\n",
       "      <th>text</th>\n",
       "      <th>airline_sentiment</th>\n",
       "    </tr>\n",
       "  </thead>\n",
       "  <tbody>\n",
       "    <tr>\n",
       "      <th>0</th>\n",
       "      <td>@VirginAmerica What @dhepburn said.</td>\n",
       "      <td>neutral</td>\n",
       "    </tr>\n",
       "    <tr>\n",
       "      <th>1</th>\n",
       "      <td>@VirginAmerica plus you've added commercials t...</td>\n",
       "      <td>positive</td>\n",
       "    </tr>\n",
       "    <tr>\n",
       "      <th>2</th>\n",
       "      <td>@VirginAmerica I didn't today... Must mean I n...</td>\n",
       "      <td>neutral</td>\n",
       "    </tr>\n",
       "    <tr>\n",
       "      <th>3</th>\n",
       "      <td>@VirginAmerica it's really aggressive to blast...</td>\n",
       "      <td>negative</td>\n",
       "    </tr>\n",
       "    <tr>\n",
       "      <th>4</th>\n",
       "      <td>@VirginAmerica and it's a really big bad thing...</td>\n",
       "      <td>negative</td>\n",
       "    </tr>\n",
       "  </tbody>\n",
       "</table>\n",
       "</div>"
      ],
      "text/plain": [
       "                                                text airline_sentiment\n",
       "0                @VirginAmerica What @dhepburn said.           neutral\n",
       "1  @VirginAmerica plus you've added commercials t...          positive\n",
       "2  @VirginAmerica I didn't today... Must mean I n...           neutral\n",
       "3  @VirginAmerica it's really aggressive to blast...          negative\n",
       "4  @VirginAmerica and it's a really big bad thing...          negative"
      ]
     },
     "execution_count": 123,
     "metadata": {
      "tags": []
     },
     "output_type": "execute_result"
    }
   ],
   "source": [
    "#first 5 rows of data\n",
    "df_data.head(5)"
   ]
  },
  {
   "cell_type": "markdown",
   "metadata": {
    "colab_type": "text",
    "id": "TEJNSY2HRocC"
   },
   "source": [
    "Question 3: Text pre-processing: Data preparation. (20 Marks)\n",
    "1. Html tag removal.\n",
    "2. Tokenization.\n",
    "3. Remove the numbers.\n",
    "4. Removal of Special Characters and Punctuations.\n",
    "5. Conversion to lowercase.\n",
    "6. Lemmatize or stemming.\n",
    "7. Join the words in the list to convert back to text string in the dataframe. (So that each row contains the data in text format.)\n",
    "8. Print first 5 rows of data after pre-processing."
   ]
  },
  {
   "cell_type": "code",
   "execution_count": 124,
   "metadata": {
    "colab": {
     "base_uri": "https://localhost:8080/",
     "height": 119
    },
    "colab_type": "code",
    "id": "HHT6tNh6RjB7",
    "outputId": "3b21f456-4328-4ffa-caac-43af2e18d38d"
   },
   "outputs": [
    {
     "name": "stderr",
     "output_type": "stream",
     "text": [
      "/usr/local/lib/python3.6/dist-packages/ipykernel_launcher.py:6: SettingWithCopyWarning: \n",
      "A value is trying to be set on a copy of a slice from a DataFrame.\n",
      "Try using .loc[row_indexer,col_indexer] = value instead\n",
      "\n",
      "See the caveats in the documentation: https://pandas.pydata.org/pandas-docs/stable/user_guide/indexing.html#returning-a-view-versus-a-copy\n",
      "  \n"
     ]
    }
   ],
   "source": [
    "#1. removing HTML tabs\n",
    "def html_remove(text):\n",
    "    soup = BeautifulSoup(text, \"html.parser\")\n",
    "    return soup.get_text()\n",
    "\n",
    "df_data['cleaned_text'] = df_data['text'].apply(lambda x: html_remove(x))\n",
    "#df_data.head(5)"
   ]
  },
  {
   "cell_type": "code",
   "execution_count": 125,
   "metadata": {
    "colab": {
     "base_uri": "https://localhost:8080/",
     "height": 119
    },
    "colab_type": "code",
    "id": "5zMnD35-R0ZL",
    "outputId": "b9672d04-c098-4ab0-b48b-b27dfdd91050"
   },
   "outputs": [
    {
     "name": "stderr",
     "output_type": "stream",
     "text": [
      "/usr/local/lib/python3.6/dist-packages/ipykernel_launcher.py:4: SettingWithCopyWarning: \n",
      "A value is trying to be set on a copy of a slice from a DataFrame.\n",
      "Try using .loc[row_indexer,col_indexer] = value instead\n",
      "\n",
      "See the caveats in the documentation: https://pandas.pydata.org/pandas-docs/stable/user_guide/indexing.html#returning-a-view-versus-a-copy\n",
      "  after removing the cwd from sys.path.\n"
     ]
    }
   ],
   "source": [
    "def replace_contractions(text):\n",
    "    return contractions.fix(text)\n",
    "\n",
    "df_data['cleaned_text'] = df_data['cleaned_text'].apply(lambda x: replace_contractions(x))\n",
    "#df_data.head()"
   ]
  },
  {
   "cell_type": "code",
   "execution_count": 126,
   "metadata": {
    "colab": {
     "base_uri": "https://localhost:8080/",
     "height": 119
    },
    "colab_type": "code",
    "id": "vL0F_AL3COwI",
    "outputId": "825225bc-4071-4b73-aadf-42f37c34b99d"
   },
   "outputs": [
    {
     "name": "stderr",
     "output_type": "stream",
     "text": [
      "/usr/local/lib/python3.6/dist-packages/ipykernel_launcher.py:5: SettingWithCopyWarning: \n",
      "A value is trying to be set on a copy of a slice from a DataFrame.\n",
      "Try using .loc[row_indexer,col_indexer] = value instead\n",
      "\n",
      "See the caveats in the documentation: https://pandas.pydata.org/pandas-docs/stable/user_guide/indexing.html#returning-a-view-versus-a-copy\n",
      "  \"\"\"\n"
     ]
    }
   ],
   "source": [
    "def rem_tweet_words(text):\n",
    "  text = re.sub(u'http\\S+|@\\S+|#', ' ', text)\n",
    "  return text\n",
    "\n",
    "df_data['cleaned_text'] = df_data['cleaned_text'].apply(lambda x: rem_tweet_words(x))\n",
    "#df_data.head()"
   ]
  },
  {
   "cell_type": "code",
   "execution_count": 127,
   "metadata": {
    "colab": {
     "base_uri": "https://localhost:8080/",
     "height": 119
    },
    "colab_type": "code",
    "id": "Fy34ZrAjR1Ja",
    "outputId": "13c66cfd-d345-4b18-f2c4-1fa004c5187e"
   },
   "outputs": [
    {
     "name": "stderr",
     "output_type": "stream",
     "text": [
      "/usr/local/lib/python3.6/dist-packages/ipykernel_launcher.py:2: SettingWithCopyWarning: \n",
      "A value is trying to be set on a copy of a slice from a DataFrame.\n",
      "Try using .loc[row_indexer,col_indexer] = value instead\n",
      "\n",
      "See the caveats in the documentation: https://pandas.pydata.org/pandas-docs/stable/user_guide/indexing.html#returning-a-view-versus-a-copy\n",
      "  \n"
     ]
    }
   ],
   "source": [
    "#2. Tokenization\n",
    "df_data['cleaned_text'] = df_data.apply(lambda tk: nltk.word_tokenize(tk['cleaned_text']), axis=1)\n",
    "#df_data.head(5)"
   ]
  },
  {
   "cell_type": "code",
   "execution_count": 128,
   "metadata": {
    "colab": {},
    "colab_type": "code",
    "id": "bxCDkHM4UL-y"
   },
   "outputs": [],
   "source": [
    "def rem_num(text):\n",
    "  new_text = []\n",
    "  for text in text:\n",
    "    text = re.sub(r'\\d+', '', str(text))\n",
    "    if text!='':\n",
    "      new_text.append(text)\n",
    "  return new_text\n",
    "\n",
    "#df_data['text'] = df_data['text'].apply(lambda x: rem_num(x))\n",
    "#df_data.text.tail(15)"
   ]
  },
  {
   "cell_type": "code",
   "execution_count": 129,
   "metadata": {
    "colab": {},
    "colab_type": "code",
    "id": "zUZj3JwuV7QW"
   },
   "outputs": [],
   "source": [
    "## Removal of Special Characters and Punctuations.\n",
    "#def rem_spe_chs(text):\n",
    "#    text = re.sub(\"[^a-zA-Z]\",\"\",text)\n",
    "#    return text\n",
    "\n",
    "#data['text'] = data['text'].apply(lambda x: rem_spe_chs(x))\n",
    "#data.head(5)\n",
    "\n",
    "def rem_spe_chs(text):\n",
    "    new_text = []\n",
    "    for text in text:\n",
    "        text = re.sub(\"[^a-zA-Z]\",\"\",str(text))\n",
    "        if text != '':\n",
    "            new_text.append(text)\n",
    "    return new_text"
   ]
  },
  {
   "cell_type": "code",
   "execution_count": 130,
   "metadata": {
    "colab": {},
    "colab_type": "code",
    "id": "x-xOGXLcV8W_"
   },
   "outputs": [],
   "source": [
    "## lower case conversion\n",
    "def to_lower_case(text):\n",
    "    new_text = []\n",
    "    for text in text:\n",
    "        text = text.lower()\n",
    "        new_text.append(text)\n",
    "    return new_text"
   ]
  },
  {
   "cell_type": "code",
   "execution_count": 131,
   "metadata": {
    "colab": {
     "base_uri": "https://localhost:8080/",
     "height": 204
    },
    "colab_type": "code",
    "id": "_XVklfCqaiL-",
    "outputId": "aac97b4d-a291-4c93-bb2d-7dd66f0f922f"
   },
   "outputs": [
    {
     "data": {
      "text/html": [
       "<div>\n",
       "<style scoped>\n",
       "    .dataframe tbody tr th:only-of-type {\n",
       "        vertical-align: middle;\n",
       "    }\n",
       "\n",
       "    .dataframe tbody tr th {\n",
       "        vertical-align: top;\n",
       "    }\n",
       "\n",
       "    .dataframe thead th {\n",
       "        text-align: right;\n",
       "    }\n",
       "</style>\n",
       "<table border=\"1\" class=\"dataframe\">\n",
       "  <thead>\n",
       "    <tr style=\"text-align: right;\">\n",
       "      <th></th>\n",
       "      <th>text</th>\n",
       "      <th>airline_sentiment</th>\n",
       "      <th>cleaned_text</th>\n",
       "    </tr>\n",
       "  </thead>\n",
       "  <tbody>\n",
       "    <tr>\n",
       "      <th>0</th>\n",
       "      <td>@VirginAmerica What @dhepburn said.</td>\n",
       "      <td>neutral</td>\n",
       "      <td>[What, said, .]</td>\n",
       "    </tr>\n",
       "    <tr>\n",
       "      <th>1</th>\n",
       "      <td>@VirginAmerica plus you've added commercials t...</td>\n",
       "      <td>positive</td>\n",
       "      <td>[plus, you, have, added, commercials, to, the,...</td>\n",
       "    </tr>\n",
       "    <tr>\n",
       "      <th>2</th>\n",
       "      <td>@VirginAmerica I didn't today... Must mean I n...</td>\n",
       "      <td>neutral</td>\n",
       "      <td>[I, did, not, today, ..., Must, mean, I, need,...</td>\n",
       "    </tr>\n",
       "    <tr>\n",
       "      <th>3</th>\n",
       "      <td>@VirginAmerica it's really aggressive to blast...</td>\n",
       "      <td>negative</td>\n",
       "      <td>[it, is, really, aggressive, to, blast, obnoxi...</td>\n",
       "    </tr>\n",
       "    <tr>\n",
       "      <th>4</th>\n",
       "      <td>@VirginAmerica and it's a really big bad thing...</td>\n",
       "      <td>negative</td>\n",
       "      <td>[and, it, is, a, really, big, bad, thing, abou...</td>\n",
       "    </tr>\n",
       "  </tbody>\n",
       "</table>\n",
       "</div>"
      ],
      "text/plain": [
       "                                                text  ...                                       cleaned_text\n",
       "0                @VirginAmerica What @dhepburn said.  ...                                    [What, said, .]\n",
       "1  @VirginAmerica plus you've added commercials t...  ...  [plus, you, have, added, commercials, to, the,...\n",
       "2  @VirginAmerica I didn't today... Must mean I n...  ...  [I, did, not, today, ..., Must, mean, I, need,...\n",
       "3  @VirginAmerica it's really aggressive to blast...  ...  [it, is, really, aggressive, to, blast, obnoxi...\n",
       "4  @VirginAmerica and it's a really big bad thing...  ...  [and, it, is, a, really, big, bad, thing, abou...\n",
       "\n",
       "[5 rows x 3 columns]"
      ]
     },
     "execution_count": 131,
     "metadata": {
      "tags": []
     },
     "output_type": "execute_result"
    }
   ],
   "source": [
    "data = df_data.copy()\n",
    "data.head(5)"
   ]
  },
  {
   "cell_type": "code",
   "execution_count": 132,
   "metadata": {
    "colab": {},
    "colab_type": "code",
    "id": "-LrsJX1BZWdH"
   },
   "outputs": [],
   "source": [
    "def normalize(text):\n",
    "    text = rem_num(text)\n",
    "    text = rem_spe_chs(text)\n",
    "    text = to_lower_case(text)\n",
    "    return ' '.join(text)"
   ]
  },
  {
   "cell_type": "code",
   "execution_count": 133,
   "metadata": {
    "colab": {
     "base_uri": "https://localhost:8080/",
     "height": 204
    },
    "colab_type": "code",
    "id": "ev-o_aA4ZyGd",
    "outputId": "fca721ab-c9e7-4199-882a-b61ba4295a7f"
   },
   "outputs": [
    {
     "data": {
      "text/html": [
       "<div>\n",
       "<style scoped>\n",
       "    .dataframe tbody tr th:only-of-type {\n",
       "        vertical-align: middle;\n",
       "    }\n",
       "\n",
       "    .dataframe tbody tr th {\n",
       "        vertical-align: top;\n",
       "    }\n",
       "\n",
       "    .dataframe thead th {\n",
       "        text-align: right;\n",
       "    }\n",
       "</style>\n",
       "<table border=\"1\" class=\"dataframe\">\n",
       "  <thead>\n",
       "    <tr style=\"text-align: right;\">\n",
       "      <th></th>\n",
       "      <th>text</th>\n",
       "      <th>airline_sentiment</th>\n",
       "      <th>cleaned_text</th>\n",
       "    </tr>\n",
       "  </thead>\n",
       "  <tbody>\n",
       "    <tr>\n",
       "      <th>0</th>\n",
       "      <td>@VirginAmerica What @dhepburn said.</td>\n",
       "      <td>neutral</td>\n",
       "      <td>what said</td>\n",
       "    </tr>\n",
       "    <tr>\n",
       "      <th>1</th>\n",
       "      <td>@VirginAmerica plus you've added commercials t...</td>\n",
       "      <td>positive</td>\n",
       "      <td>plus you have added commercials to the experie...</td>\n",
       "    </tr>\n",
       "    <tr>\n",
       "      <th>2</th>\n",
       "      <td>@VirginAmerica I didn't today... Must mean I n...</td>\n",
       "      <td>neutral</td>\n",
       "      <td>i did not today must mean i need to take anoth...</td>\n",
       "    </tr>\n",
       "    <tr>\n",
       "      <th>3</th>\n",
       "      <td>@VirginAmerica it's really aggressive to blast...</td>\n",
       "      <td>negative</td>\n",
       "      <td>it is really aggressive to blast obnoxious ent...</td>\n",
       "    </tr>\n",
       "    <tr>\n",
       "      <th>4</th>\n",
       "      <td>@VirginAmerica and it's a really big bad thing...</td>\n",
       "      <td>negative</td>\n",
       "      <td>and it is a really big bad thing about it</td>\n",
       "    </tr>\n",
       "  </tbody>\n",
       "</table>\n",
       "</div>"
      ],
      "text/plain": [
       "                                                text  ...                                       cleaned_text\n",
       "0                @VirginAmerica What @dhepburn said.  ...                                          what said\n",
       "1  @VirginAmerica plus you've added commercials t...  ...  plus you have added commercials to the experie...\n",
       "2  @VirginAmerica I didn't today... Must mean I n...  ...  i did not today must mean i need to take anoth...\n",
       "3  @VirginAmerica it's really aggressive to blast...  ...  it is really aggressive to blast obnoxious ent...\n",
       "4  @VirginAmerica and it's a really big bad thing...  ...          and it is a really big bad thing about it\n",
       "\n",
       "[5 rows x 3 columns]"
      ]
     },
     "execution_count": 133,
     "metadata": {
      "tags": []
     },
     "output_type": "execute_result"
    }
   ],
   "source": [
    "data['cleaned_text'] = data.apply(lambda row: normalize(row['cleaned_text']), axis=1)\n",
    "data.head()"
   ]
  },
  {
   "cell_type": "code",
   "execution_count": 134,
   "metadata": {
    "colab": {},
    "colab_type": "code",
    "id": "ialjHK1MGhsQ"
   },
   "outputs": [],
   "source": [
    "## Lemmatize.\n",
    "lemmatizer = WordNetLemmatizer()"
   ]
  },
  {
   "cell_type": "code",
   "execution_count": 135,
   "metadata": {
    "colab": {},
    "colab_type": "code",
    "id": "lXJEmItxKnRl"
   },
   "outputs": [],
   "source": [
    "def lemmatize_list(text):\n",
    "  new_text = []\n",
    "  sentence_words = nltk.word_tokenize(text)\n",
    "  for text in sentence_words:\n",
    "    new_text.append(lemmatizer.lemmatize(text, pos='v'))\n",
    "  return ' '.join(new_text)"
   ]
  },
  {
   "cell_type": "code",
   "execution_count": 136,
   "metadata": {
    "colab": {
     "base_uri": "https://localhost:8080/",
     "height": 204
    },
    "colab_type": "code",
    "id": "tWgtOJBJGtCi",
    "outputId": "0fdedfb1-c34f-445c-923f-2940982fb733"
   },
   "outputs": [
    {
     "data": {
      "text/html": [
       "<div>\n",
       "<style scoped>\n",
       "    .dataframe tbody tr th:only-of-type {\n",
       "        vertical-align: middle;\n",
       "    }\n",
       "\n",
       "    .dataframe tbody tr th {\n",
       "        vertical-align: top;\n",
       "    }\n",
       "\n",
       "    .dataframe thead th {\n",
       "        text-align: right;\n",
       "    }\n",
       "</style>\n",
       "<table border=\"1\" class=\"dataframe\">\n",
       "  <thead>\n",
       "    <tr style=\"text-align: right;\">\n",
       "      <th></th>\n",
       "      <th>text</th>\n",
       "      <th>airline_sentiment</th>\n",
       "      <th>cleaned_text</th>\n",
       "      <th>lem</th>\n",
       "    </tr>\n",
       "  </thead>\n",
       "  <tbody>\n",
       "    <tr>\n",
       "      <th>0</th>\n",
       "      <td>@VirginAmerica What @dhepburn said.</td>\n",
       "      <td>neutral</td>\n",
       "      <td>what said</td>\n",
       "      <td>what say</td>\n",
       "    </tr>\n",
       "    <tr>\n",
       "      <th>1</th>\n",
       "      <td>@VirginAmerica plus you've added commercials t...</td>\n",
       "      <td>positive</td>\n",
       "      <td>plus you have added commercials to the experie...</td>\n",
       "      <td>plus you have add commercials to the experienc...</td>\n",
       "    </tr>\n",
       "    <tr>\n",
       "      <th>2</th>\n",
       "      <td>@VirginAmerica I didn't today... Must mean I n...</td>\n",
       "      <td>neutral</td>\n",
       "      <td>i did not today must mean i need to take anoth...</td>\n",
       "      <td>i do not today must mean i need to take anothe...</td>\n",
       "    </tr>\n",
       "    <tr>\n",
       "      <th>3</th>\n",
       "      <td>@VirginAmerica it's really aggressive to blast...</td>\n",
       "      <td>negative</td>\n",
       "      <td>it is really aggressive to blast obnoxious ent...</td>\n",
       "      <td>it be really aggressive to blast obnoxious ent...</td>\n",
       "    </tr>\n",
       "    <tr>\n",
       "      <th>4</th>\n",
       "      <td>@VirginAmerica and it's a really big bad thing...</td>\n",
       "      <td>negative</td>\n",
       "      <td>and it is a really big bad thing about it</td>\n",
       "      <td>and it be a really big bad thing about it</td>\n",
       "    </tr>\n",
       "  </tbody>\n",
       "</table>\n",
       "</div>"
      ],
      "text/plain": [
       "                                                text  ...                                                lem\n",
       "0                @VirginAmerica What @dhepburn said.  ...                                           what say\n",
       "1  @VirginAmerica plus you've added commercials t...  ...  plus you have add commercials to the experienc...\n",
       "2  @VirginAmerica I didn't today... Must mean I n...  ...  i do not today must mean i need to take anothe...\n",
       "3  @VirginAmerica it's really aggressive to blast...  ...  it be really aggressive to blast obnoxious ent...\n",
       "4  @VirginAmerica and it's a really big bad thing...  ...          and it be a really big bad thing about it\n",
       "\n",
       "[5 rows x 4 columns]"
      ]
     },
     "execution_count": 136,
     "metadata": {
      "tags": []
     },
     "output_type": "execute_result"
    }
   ],
   "source": [
    "data['lem'] = data.apply(lambda row: lemmatize_list(row['cleaned_text']), axis=1)\n",
    "data.head()"
   ]
  },
  {
   "cell_type": "markdown",
   "metadata": {
    "colab_type": "text",
    "id": "bwmgJGyjlI15"
   },
   "source": [
    "4.Vectorization:(10Marks)\n",
    "1. Use CountVectorizer.\n",
    "2. Use TfidfVectorizer."
   ]
  },
  {
   "cell_type": "markdown",
   "metadata": {
    "colab_type": "text",
    "id": "8ru_OOm2oAKC"
   },
   "source": [
    "1 . CountVectorizer."
   ]
  },
  {
   "cell_type": "code",
   "execution_count": 137,
   "metadata": {
    "colab": {},
    "colab_type": "code",
    "id": "yTWiAtq_Z2Wk"
   },
   "outputs": [],
   "source": [
    "## CountVectorizer (convert text data to number)\n",
    "vectorizer = CountVectorizer()                # Keep only 1000 features as number of features will increase the processing time.\n",
    "data_features_cv = vectorizer.fit_transform(data['lem'])\n",
    "data_features_cv = data_features_cv.toarray()                        # Convert the data features to array."
   ]
  },
  {
   "cell_type": "code",
   "execution_count": 138,
   "metadata": {
    "colab": {
     "base_uri": "https://localhost:8080/",
     "height": 34
    },
    "colab_type": "code",
    "id": "rzBR9mAamPyK",
    "outputId": "a1677faf-ad31-4a02-dbd5-6443a17258e9"
   },
   "outputs": [
    {
     "data": {
      "text/plain": [
       "(14640, 10169)"
      ]
     },
     "execution_count": 138,
     "metadata": {
      "tags": []
     },
     "output_type": "execute_result"
    }
   ],
   "source": [
    "data_features_cv.shape"
   ]
  },
  {
   "cell_type": "code",
   "execution_count": 139,
   "metadata": {
    "colab": {},
    "colab_type": "code",
    "id": "fXYOfQ6xE-zC"
   },
   "outputs": [],
   "source": [
    "data['airline_sentiment'].replace({'negative': 0,'neutral': 1,'positive': 2},inplace=True)\n",
    "labels = data['airline_sentiment']\n",
    "#labels = labels.astype('int')"
   ]
  },
  {
   "cell_type": "markdown",
   "metadata": {
    "colab_type": "text",
    "id": "LSYb7UxKlVjw"
   },
   "source": [
    "5.Fit and evaluate model using countvectorization."
   ]
  },
  {
   "cell_type": "code",
   "execution_count": 140,
   "metadata": {
    "colab": {},
    "colab_type": "code",
    "id": "T2x7jK4dlfHH"
   },
   "outputs": [],
   "source": [
    "# Split data into training and testing set.\n",
    "\n",
    "X_train, X_test, y_train, y_test = train_test_split(data_features_cv, labels, test_size=0.3, random_state=10)"
   ]
  },
  {
   "cell_type": "code",
   "execution_count": 141,
   "metadata": {
    "colab": {
     "base_uri": "https://localhost:8080/",
     "height": 34
    },
    "colab_type": "code",
    "id": "Z7nFc_zv4hX6",
    "outputId": "92a90c22-02ef-48fe-942f-9f4db27c55c2"
   },
   "outputs": [
    {
     "name": "stdout",
     "output_type": "stream",
     "text": [
      "0.7628415300546447\n"
     ]
    }
   ],
   "source": [
    "forest = RandomForestClassifier(n_estimators=100,class_weight='balanced',n_jobs = 10)\n",
    "forest = forest.fit(X_train, y_train)\n",
    "print(np.mean(cross_val_score(forest, data_features_cv, labels, cv=10)))"
   ]
  },
  {
   "cell_type": "code",
   "execution_count": 142,
   "metadata": {
    "colab": {},
    "colab_type": "code",
    "id": "KBECOzUvwSCC"
   },
   "outputs": [],
   "source": [
    "result_cv = forest.predict(X_test)"
   ]
  },
  {
   "cell_type": "code",
   "execution_count": 143,
   "metadata": {
    "colab": {
     "base_uri": "https://localhost:8080/",
     "height": 496
    },
    "colab_type": "code",
    "id": "O7BCnsnZwYla",
    "outputId": "bb26fc81-db32-4f73-aa9f-f331c846ed53"
   },
   "outputs": [
    {
     "name": "stdout",
     "output_type": "stream",
     "text": [
      "[[2573  119   39]\n",
      " [ 490  424   44]\n",
      " [ 262   67  374]]\n"
     ]
    },
    {
     "data": {
      "text/plain": [
       "<matplotlib.axes._subplots.AxesSubplot at 0x7fc083842940>"
      ]
     },
     "execution_count": 143,
     "metadata": {
      "tags": []
     },
     "output_type": "execute_result"
    },
    {
     "data": {
      "image/png": "[encoded data removed]",
      "text/plain": [
       "<Figure size 720x504 with 2 Axes>"
      ]
     },
     "metadata": {
      "needs_background": "light",
      "tags": []
     },
     "output_type": "display_data"
    }
   ],
   "source": [
    "# Print and plot Confusion matirx to get an idea of how the distribution of the prediction is, among all the classes.\n",
    "\n",
    "import matplotlib.pyplot as plt\n",
    "import seaborn as sns\n",
    "from sklearn.metrics import confusion_matrix\n",
    "\n",
    "conf_mat = confusion_matrix(y_test, result_cv)\n",
    "\n",
    "print(conf_mat)\n",
    "\n",
    "df_cm = pd.DataFrame(conf_mat, index = [i for i in \"012\"], columns = [i for i in \"012\"])\n",
    "plt.figure(figsize = (10,7))\n",
    "sns.heatmap(df_cm, annot=True, fmt='g')"
   ]
  },
  {
   "cell_type": "markdown",
   "metadata": {
    "colab_type": "text",
    "id": "hAzIX_kY-XU_"
   },
   "source": [
    "2. TfidfVectorizer"
   ]
  },
  {
   "cell_type": "code",
   "execution_count": 144,
   "metadata": {
    "colab": {
     "base_uri": "https://localhost:8080/",
     "height": 34
    },
    "colab_type": "code",
    "id": "znmG7SeoAPfF",
    "outputId": "e13f99bc-4ff4-4210-e911-bfcabe1df45d"
   },
   "outputs": [
    {
     "data": {
      "text/plain": [
       "(14640, 10169)"
      ]
     },
     "execution_count": 144,
     "metadata": {
      "tags": []
     },
     "output_type": "execute_result"
    }
   ],
   "source": [
    "# Using TfidfVectorizer to convert text data to numbers.\n",
    "vectorizer = TfidfVectorizer()\n",
    "data_features_tv = vectorizer.fit_transform(data['lem'])\n",
    "data_features_tv = data_features_tv.toarray()\n",
    "data_features_tv.shape"
   ]
  },
  {
   "cell_type": "code",
   "execution_count": 145,
   "metadata": {
    "colab": {},
    "colab_type": "code",
    "id": "-waTGV1cBdzv"
   },
   "outputs": [],
   "source": [
    "# Split data into training and testing set.\n",
    "from sklearn.model_selection import train_test_split\n",
    "X_train, X_test, y_train, y_test = train_test_split(data_features_tv, labels, test_size=0.3, random_state=10)"
   ]
  },
  {
   "cell_type": "code",
   "execution_count": 146,
   "metadata": {
    "colab": {
     "base_uri": "https://localhost:8080/",
     "height": 34
    },
    "colab_type": "code",
    "id": "K-KvO7tXBf6E",
    "outputId": "5f657161-b4a4-4523-9cb2-7ca88acc7df6"
   },
   "outputs": [
    {
     "name": "stdout",
     "output_type": "stream",
     "text": [
      "0.7565573770491802\n"
     ]
    }
   ],
   "source": [
    "forest1 = RandomForestClassifier(n_estimators=100,class_weight='balanced',n_jobs = 10)\n",
    "forest1 = forest1.fit(X_train, y_train)\n",
    "print(np.mean(cross_val_score(forest1, data_features_tv, labels, cv=10)))"
   ]
  },
  {
   "cell_type": "code",
   "execution_count": 147,
   "metadata": {
    "colab": {},
    "colab_type": "code",
    "id": "IE8_qKihxEoG"
   },
   "outputs": [],
   "source": [
    "result_tv = forest1.predict(X_test)"
   ]
  },
  {
   "cell_type": "code",
   "execution_count": 148,
   "metadata": {
    "colab": {
     "base_uri": "https://localhost:8080/",
     "height": 445
    },
    "colab_type": "code",
    "id": "SCRQv3LoxH7E",
    "outputId": "4975de45-8e3a-46c1-8870-0ba2dd0f7ba7"
   },
   "outputs": [
    {
     "data": {
      "text/plain": [
       "<matplotlib.axes._subplots.AxesSubplot at 0x7fc052f1e5c0>"
      ]
     },
     "execution_count": 148,
     "metadata": {
      "tags": []
     },
     "output_type": "execute_result"
    },
    {
     "data": {
      "image/png": "[encoded data removed]",
      "text/plain": [
       "<Figure size 720x504 with 2 Axes>"
      ]
     },
     "metadata": {
      "needs_background": "light",
      "tags": []
     },
     "output_type": "display_data"
    }
   ],
   "source": [
    "import matplotlib.pyplot as plt\n",
    "import seaborn as sns\n",
    "from sklearn.metrics import confusion_matrix\n",
    "\n",
    "conf_mat = confusion_matrix(y_test, result_tv)\n",
    "\n",
    "df_cm = pd.DataFrame(conf_mat, index = [i for i in \"012\"],\n",
    "                  columns = [i for i in \"012\"])\n",
    "plt.figure(figsize = (10,7))\n",
    "sns.heatmap(df_cm, annot=True, fmt='g')"
   ]
  },
  {
   "cell_type": "markdown",
   "metadata": {
    "colab_type": "text",
    "id": "6_B27xVZn6lk"
   },
   "source": [
    "6.Summarize your understanding of the application of Various Pre-processing and Vectorization and performance of your modelon this dataset. (8 Marks)"
   ]
  },
  {
   "cell_type": "markdown",
   "metadata": {
    "colab_type": "text",
    "id": "uYTdCqgZ-3CQ"
   },
   "source": [
    "1. This problem statement contains the sentiment analysis of various users about US Airline\n",
    "2. Sentiment analysis are captured from the users tweets.\n",
    "3. Dataset contains consumers tweet and there sentiment captured as \"Postive\", \"Negative\" and \"Neutral\"\n",
    "4. The main objective is to build a model for text-classification.\n",
    "5. As part of Data Preparation, Text Pre-Processing was carried out, which contains,\n",
    "  1. Removal of HTML tags\n",
    "  2. Removal of tweeted to or tweeted about(ex: @VirginAmerica)\n",
    "  3. Replacing Contractions.\n",
    "  4. Tokenization\n",
    "  5. Removal of Numbers\n",
    "  6. Removal of special characters\n",
    "  7. Lower case convertion\n",
    "  8. Lemmatize\n",
    "6. Vectorisation is taken care(both CountVectorizer and TfidfVectorizer), to convert the pre-processed text into numbers.\n",
    "7. Once the model is build, the test values are predicted and compared with actual values.\n",
    "8. From above result, we can see that our model perform good and predict 75% of data correctly.\n",
    "9. We can still increase the accuracy by tuning the hyper parameters. As time is the biggest concern, we couldnt make more changes in the model.\n",
    "10. Accuracy can be increased by including few more pre-processing techniques."
   ]
  }
 ],
 "metadata": {
  "colab": {
   "name": "Twitter US Airline Sentiment - Solution.ipynb",
   "provenance": []
  },
  "kernelspec": {
   "display_name": "Python 3",
   "language": "python",
   "name": "python3"
  },
  "language_info": {
   "codemirror_mode": {
    "name": "ipython",
    "version": 3
   },
   "file_extension": ".py",
   "mimetype": "text/x-python",
   "name": "python",
   "nbconvert_exporter": "python",
   "pygments_lexer": "ipython3",
   "version": "3.7.3"
  }
 },
 "nbformat": 4,
 "nbformat_minor": 1
}
